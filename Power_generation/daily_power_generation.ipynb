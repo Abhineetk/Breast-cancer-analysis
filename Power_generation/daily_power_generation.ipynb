{
 "cells": [
  {
   "cell_type": "markdown",
   "metadata": {
    "colab_type": "text",
    "id": "IKVe6h6kov4X"
   },
   "source": [
    "# Daily Power Generation Data Cleaning and Analysis\n",
    "\n"
   ]
  },
  {
   "cell_type": "markdown",
   "metadata": {
    "colab_type": "text",
    "id": "fIJD74wYozv5"
   },
   "source": [
    "\n",
    "India is the world's third-largest producer and third largest consumer of electricity. The national electric grid in India has an installed capacity of 370.106 GW as of 31 March 2020. Renewable power plants, which also include large hydroelectric plants, constitute 35.86% of India's total installed capacity.\n",
    "India has a surplus power generation capacity but lacks adequate distribution infrastructure.\n",
    "\n",
    "India's electricity sector is dominated by fossil fuels, in particular coal, which during the 2018-19 fiscal year produced about three-quarters of the country's electricity. The government is making efforts to increase investment in renewable energy. The government's National Electricity Plan of 2018 states that the country does not need more non-renewable power plants in the utility sector until 2027, with the commissioning of 50,025 MW coal-based power plants under construction and addition of 275,000 MW total renewable power capacity after the retirement of nearly 48,000 MW old coal-fired plants.\n",
    "\n",
    "India has recorded rapid growth in electricity generation since 1985, increasing from 179 TW-hr in 1985 to 1,057 TW-hr in 2012. The majority of the increase came from coal-fired plants and non-conventional renewable energy sources (RES), with the contribution from natural gas, oil, and hydro plants decreasing in 2012-2017. The gross utility electricity generation (excluding imports from Bhutan) was 1,384 billion kWh in 2019-20, representing 1.0 % annual growth compared to 2018-2019. The contribution from renewable energy sources was nearly 20% of the total. In the year 2019-20, all the incremental electricity generation is contributed by renewable energy sources as the power generation from fossil fuels decreased.\n",
    "The drivers for India's electricity sector are its rapidly growing economy, rising exports, improving infrastructure, and increasing household incomes.\n",
    "\n",
    "\n",
    "## Data\n",
    "There are 2 CSV files for the study. Each file has detailed file, and row, and column description for easier understanding of the user.\n",
    "\n",
    "## Acknowledgements\n",
    "Data has been extracted from openly available reports of National Power Portal at \"https://npp.gov.in/\". I have made my code for extracting the dataset which you can find under the kernels section of the dataset.\n",
    "\n"
   ]
  },
  {
   "cell_type": "markdown",
   "metadata": {
    "colab_type": "text",
    "id": "CsOsqQuCozb3"
   },
   "source": [
    "## Session flow :\n",
    "\n",
    "* Data Cleaning and basic analysis will be done for the first 90 - 100 minutes.\n",
    "\n",
    "* Brainstorming activity to form atleast 3 questions which are to be answered and try to individually code it to get the desired output(20-30 minutes)"
   ]
  },
  {
   "cell_type": "markdown",
   "metadata": {
    "colab_type": "text",
    "id": "4oIXyK75o71U"
   },
   "source": [
    "## Load the libraries"
   ]
  },
  {
   "cell_type": "code",
   "execution_count": 140,
   "metadata": {
    "colab": {},
    "colab_type": "code",
    "id": "DT0e5F87ox4n"
   },
   "outputs": [],
   "source": [
    "import os\n",
    "import pandas as pd\n",
    "import numpy as np\n",
    "import matplotlib.pyplot as plt\n",
    "import datetime\n"
   ]
  },
  {
   "cell_type": "markdown",
   "metadata": {
    "colab_type": "text",
    "id": "pzhl8usGpH7m"
   },
   "source": [
    "## Load the data"
   ]
  },
  {
   "cell_type": "code",
   "execution_count": 118,
   "metadata": {
    "colab": {},
    "colab_type": "code",
    "id": "fgem045TpLVr"
   },
   "outputs": [
    {
     "data": {
      "text/html": [
       "<div>\n",
       "<style scoped>\n",
       "    .dataframe tbody tr th:only-of-type {\n",
       "        vertical-align: middle;\n",
       "    }\n",
       "\n",
       "    .dataframe tbody tr th {\n",
       "        vertical-align: top;\n",
       "    }\n",
       "\n",
       "    .dataframe thead th {\n",
       "        text-align: right;\n",
       "    }\n",
       "</style>\n",
       "<table border=\"1\" class=\"dataframe\">\n",
       "  <thead>\n",
       "    <tr style=\"text-align: right;\">\n",
       "      <th></th>\n",
       "      <th>index</th>\n",
       "      <th>Date</th>\n",
       "      <th>Region</th>\n",
       "      <th>Thermal Generation Actual (in MU)</th>\n",
       "      <th>Thermal Generation Estimated (in MU)</th>\n",
       "      <th>Nuclear Generation Actual (in MU)</th>\n",
       "      <th>Nuclear Generation Estimated (in MU)</th>\n",
       "      <th>Hydro Generation Actual (in MU)</th>\n",
       "      <th>Hydro Generation Estimated (in MU)</th>\n",
       "    </tr>\n",
       "  </thead>\n",
       "  <tbody>\n",
       "    <tr>\n",
       "      <td>0</td>\n",
       "      <td>0</td>\n",
       "      <td>2017-09-01</td>\n",
       "      <td>Northern</td>\n",
       "      <td>624.23</td>\n",
       "      <td>484.21</td>\n",
       "      <td>30.36</td>\n",
       "      <td>35.57</td>\n",
       "      <td>273.27</td>\n",
       "      <td>320.81</td>\n",
       "    </tr>\n",
       "    <tr>\n",
       "      <td>1</td>\n",
       "      <td>1</td>\n",
       "      <td>2017-09-01</td>\n",
       "      <td>Western</td>\n",
       "      <td>1,106.89</td>\n",
       "      <td>1,024.33</td>\n",
       "      <td>25.17</td>\n",
       "      <td>3.81</td>\n",
       "      <td>72.00</td>\n",
       "      <td>21.53</td>\n",
       "    </tr>\n",
       "    <tr>\n",
       "      <td>2</td>\n",
       "      <td>2</td>\n",
       "      <td>2017-09-01</td>\n",
       "      <td>Southern</td>\n",
       "      <td>576.66</td>\n",
       "      <td>578.55</td>\n",
       "      <td>62.73</td>\n",
       "      <td>49.80</td>\n",
       "      <td>111.57</td>\n",
       "      <td>64.78</td>\n",
       "    </tr>\n",
       "    <tr>\n",
       "      <td>3</td>\n",
       "      <td>3</td>\n",
       "      <td>2017-09-01</td>\n",
       "      <td>Eastern</td>\n",
       "      <td>441.02</td>\n",
       "      <td>429.39</td>\n",
       "      <td>NaN</td>\n",
       "      <td>NaN</td>\n",
       "      <td>85.94</td>\n",
       "      <td>69.36</td>\n",
       "    </tr>\n",
       "    <tr>\n",
       "      <td>4</td>\n",
       "      <td>4</td>\n",
       "      <td>2017-09-01</td>\n",
       "      <td>NorthEastern</td>\n",
       "      <td>29.11</td>\n",
       "      <td>15.91</td>\n",
       "      <td>NaN</td>\n",
       "      <td>NaN</td>\n",
       "      <td>24.64</td>\n",
       "      <td>21.21</td>\n",
       "    </tr>\n",
       "  </tbody>\n",
       "</table>\n",
       "</div>"
      ],
      "text/plain": [
       "   index        Date        Region Thermal Generation Actual (in MU)  \\\n",
       "0      0  2017-09-01      Northern                            624.23   \n",
       "1      1  2017-09-01       Western                          1,106.89   \n",
       "2      2  2017-09-01      Southern                            576.66   \n",
       "3      3  2017-09-01       Eastern                            441.02   \n",
       "4      4  2017-09-01  NorthEastern                             29.11   \n",
       "\n",
       "  Thermal Generation Estimated (in MU)  Nuclear Generation Actual (in MU)  \\\n",
       "0                               484.21                              30.36   \n",
       "1                             1,024.33                              25.17   \n",
       "2                               578.55                              62.73   \n",
       "3                               429.39                                NaN   \n",
       "4                                15.91                                NaN   \n",
       "\n",
       "   Nuclear Generation Estimated (in MU)  Hydro Generation Actual (in MU)  \\\n",
       "0                                 35.57                           273.27   \n",
       "1                                  3.81                            72.00   \n",
       "2                                 49.80                           111.57   \n",
       "3                                   NaN                            85.94   \n",
       "4                                   NaN                            24.64   \n",
       "\n",
       "   Hydro Generation Estimated (in MU)  \n",
       "0                              320.81  \n",
       "1                               21.53  \n",
       "2                               64.78  \n",
       "3                               69.36  \n",
       "4                               21.21  "
      ]
     },
     "execution_count": 118,
     "metadata": {},
     "output_type": "execute_result"
    }
   ],
   "source": [
    "power_df = pd.read_csv('../data/power_generation.csv') \n",
    "power_df.head()"
   ]
  },
  {
   "cell_type": "code",
   "execution_count": 119,
   "metadata": {},
   "outputs": [
    {
     "data": {
      "text/html": [
       "<div>\n",
       "<style scoped>\n",
       "    .dataframe tbody tr th:only-of-type {\n",
       "        vertical-align: middle;\n",
       "    }\n",
       "\n",
       "    .dataframe tbody tr th {\n",
       "        vertical-align: top;\n",
       "    }\n",
       "\n",
       "    .dataframe thead th {\n",
       "        text-align: right;\n",
       "    }\n",
       "</style>\n",
       "<table border=\"1\" class=\"dataframe\">\n",
       "  <thead>\n",
       "    <tr style=\"text-align: right;\">\n",
       "      <th></th>\n",
       "      <th>State / Union territory (UT)</th>\n",
       "      <th>Area (km2)</th>\n",
       "      <th>Region</th>\n",
       "      <th>National Share (%)</th>\n",
       "    </tr>\n",
       "  </thead>\n",
       "  <tbody>\n",
       "    <tr>\n",
       "      <td>0</td>\n",
       "      <td>Rajasthan</td>\n",
       "      <td>342239</td>\n",
       "      <td>Northern</td>\n",
       "      <td>10.55</td>\n",
       "    </tr>\n",
       "    <tr>\n",
       "      <td>1</td>\n",
       "      <td>Madhya Pradesh</td>\n",
       "      <td>308350</td>\n",
       "      <td>Central</td>\n",
       "      <td>9.37</td>\n",
       "    </tr>\n",
       "    <tr>\n",
       "      <td>2</td>\n",
       "      <td>Maharashtra</td>\n",
       "      <td>307713</td>\n",
       "      <td>Western</td>\n",
       "      <td>9.36</td>\n",
       "    </tr>\n",
       "    <tr>\n",
       "      <td>3</td>\n",
       "      <td>Uttar Pradesh</td>\n",
       "      <td>240928</td>\n",
       "      <td>Northern</td>\n",
       "      <td>7.33</td>\n",
       "    </tr>\n",
       "    <tr>\n",
       "      <td>4</td>\n",
       "      <td>Gujarat</td>\n",
       "      <td>196024</td>\n",
       "      <td>Western</td>\n",
       "      <td>5.96</td>\n",
       "    </tr>\n",
       "  </tbody>\n",
       "</table>\n",
       "</div>"
      ],
      "text/plain": [
       "  State / Union territory (UT)  Area (km2)    Region  National Share (%)\n",
       "0                    Rajasthan      342239  Northern               10.55\n",
       "1               Madhya Pradesh      308350   Central                9.37\n",
       "2                  Maharashtra      307713   Western                9.36\n",
       "3                Uttar Pradesh      240928  Northern                7.33\n",
       "4                      Gujarat      196024   Western                5.96"
      ]
     },
     "execution_count": 119,
     "metadata": {},
     "output_type": "execute_result"
    }
   ],
   "source": [
    "states_df = pd.read_csv('../data/State_Region_corrected.csv')\n",
    "states_df.head()"
   ]
  },
  {
   "cell_type": "markdown",
   "metadata": {
    "colab_type": "text",
    "id": "tTwjxqDSpNyL"
   },
   "source": [
    "## Remove the column `index` from power_df dataframe"
   ]
  },
  {
   "cell_type": "code",
   "execution_count": 120,
   "metadata": {
    "colab": {},
    "colab_type": "code",
    "id": "cXcK0DxKpkIv"
   },
   "outputs": [
    {
     "data": {
      "text/html": [
       "<div>\n",
       "<style scoped>\n",
       "    .dataframe tbody tr th:only-of-type {\n",
       "        vertical-align: middle;\n",
       "    }\n",
       "\n",
       "    .dataframe tbody tr th {\n",
       "        vertical-align: top;\n",
       "    }\n",
       "\n",
       "    .dataframe thead th {\n",
       "        text-align: right;\n",
       "    }\n",
       "</style>\n",
       "<table border=\"1\" class=\"dataframe\">\n",
       "  <thead>\n",
       "    <tr style=\"text-align: right;\">\n",
       "      <th></th>\n",
       "      <th>Date</th>\n",
       "      <th>Region</th>\n",
       "      <th>Thermal Generation Actual (in MU)</th>\n",
       "      <th>Thermal Generation Estimated (in MU)</th>\n",
       "      <th>Nuclear Generation Actual (in MU)</th>\n",
       "      <th>Nuclear Generation Estimated (in MU)</th>\n",
       "      <th>Hydro Generation Actual (in MU)</th>\n",
       "      <th>Hydro Generation Estimated (in MU)</th>\n",
       "    </tr>\n",
       "  </thead>\n",
       "  <tbody>\n",
       "    <tr>\n",
       "      <td>0</td>\n",
       "      <td>2017-09-01</td>\n",
       "      <td>Northern</td>\n",
       "      <td>624.23</td>\n",
       "      <td>484.21</td>\n",
       "      <td>30.36</td>\n",
       "      <td>35.57</td>\n",
       "      <td>273.27</td>\n",
       "      <td>320.81</td>\n",
       "    </tr>\n",
       "    <tr>\n",
       "      <td>1</td>\n",
       "      <td>2017-09-01</td>\n",
       "      <td>Western</td>\n",
       "      <td>1,106.89</td>\n",
       "      <td>1,024.33</td>\n",
       "      <td>25.17</td>\n",
       "      <td>3.81</td>\n",
       "      <td>72.00</td>\n",
       "      <td>21.53</td>\n",
       "    </tr>\n",
       "    <tr>\n",
       "      <td>2</td>\n",
       "      <td>2017-09-01</td>\n",
       "      <td>Southern</td>\n",
       "      <td>576.66</td>\n",
       "      <td>578.55</td>\n",
       "      <td>62.73</td>\n",
       "      <td>49.80</td>\n",
       "      <td>111.57</td>\n",
       "      <td>64.78</td>\n",
       "    </tr>\n",
       "    <tr>\n",
       "      <td>3</td>\n",
       "      <td>2017-09-01</td>\n",
       "      <td>Eastern</td>\n",
       "      <td>441.02</td>\n",
       "      <td>429.39</td>\n",
       "      <td>NaN</td>\n",
       "      <td>NaN</td>\n",
       "      <td>85.94</td>\n",
       "      <td>69.36</td>\n",
       "    </tr>\n",
       "    <tr>\n",
       "      <td>4</td>\n",
       "      <td>2017-09-01</td>\n",
       "      <td>NorthEastern</td>\n",
       "      <td>29.11</td>\n",
       "      <td>15.91</td>\n",
       "      <td>NaN</td>\n",
       "      <td>NaN</td>\n",
       "      <td>24.64</td>\n",
       "      <td>21.21</td>\n",
       "    </tr>\n",
       "  </tbody>\n",
       "</table>\n",
       "</div>"
      ],
      "text/plain": [
       "         Date        Region Thermal Generation Actual (in MU)  \\\n",
       "0  2017-09-01      Northern                            624.23   \n",
       "1  2017-09-01       Western                          1,106.89   \n",
       "2  2017-09-01      Southern                            576.66   \n",
       "3  2017-09-01       Eastern                            441.02   \n",
       "4  2017-09-01  NorthEastern                             29.11   \n",
       "\n",
       "  Thermal Generation Estimated (in MU)  Nuclear Generation Actual (in MU)  \\\n",
       "0                               484.21                              30.36   \n",
       "1                             1,024.33                              25.17   \n",
       "2                               578.55                              62.73   \n",
       "3                               429.39                                NaN   \n",
       "4                                15.91                                NaN   \n",
       "\n",
       "   Nuclear Generation Estimated (in MU)  Hydro Generation Actual (in MU)  \\\n",
       "0                                 35.57                           273.27   \n",
       "1                                  3.81                            72.00   \n",
       "2                                 49.80                           111.57   \n",
       "3                                   NaN                            85.94   \n",
       "4                                   NaN                            24.64   \n",
       "\n",
       "   Hydro Generation Estimated (in MU)  \n",
       "0                              320.81  \n",
       "1                               21.53  \n",
       "2                               64.78  \n",
       "3                               69.36  \n",
       "4                               21.21  "
      ]
     },
     "execution_count": 120,
     "metadata": {},
     "output_type": "execute_result"
    }
   ],
   "source": [
    "power_df = power_df.drop('index',1)\n",
    "power_df.head()"
   ]
  },
  {
   "cell_type": "markdown",
   "metadata": {
    "colab_type": "text",
    "id": "fl3mMuAgpl5G"
   },
   "source": [
    "## Cleaning the power_df dataframe column names :\n",
    "* Remove the substring `' (in MU)'` from all the columns in the power_df dataframe.\n",
    "* Replace all the spaces with underscore in the power_df datafame\n",
    "* All the column names to be converted to small case in the power_df dataframe\n"
   ]
  },
  {
   "cell_type": "code",
   "execution_count": 121,
   "metadata": {},
   "outputs": [
    {
     "data": {
      "text/html": [
       "<div>\n",
       "<style scoped>\n",
       "    .dataframe tbody tr th:only-of-type {\n",
       "        vertical-align: middle;\n",
       "    }\n",
       "\n",
       "    .dataframe tbody tr th {\n",
       "        vertical-align: top;\n",
       "    }\n",
       "\n",
       "    .dataframe thead th {\n",
       "        text-align: right;\n",
       "    }\n",
       "</style>\n",
       "<table border=\"1\" class=\"dataframe\">\n",
       "  <thead>\n",
       "    <tr style=\"text-align: right;\">\n",
       "      <th></th>\n",
       "      <th>date</th>\n",
       "      <th>region</th>\n",
       "      <th>thermal_generation_actual</th>\n",
       "      <th>thermal_generation_estimated</th>\n",
       "      <th>nuclear_generation_actual</th>\n",
       "      <th>nuclear_generation_estimated</th>\n",
       "      <th>hydro_generation_actual</th>\n",
       "      <th>hydro_generation_estimated</th>\n",
       "    </tr>\n",
       "  </thead>\n",
       "  <tbody>\n",
       "    <tr>\n",
       "      <td>0</td>\n",
       "      <td>2017-09-01</td>\n",
       "      <td>Northern</td>\n",
       "      <td>624.23</td>\n",
       "      <td>484.21</td>\n",
       "      <td>30.36</td>\n",
       "      <td>35.57</td>\n",
       "      <td>273.27</td>\n",
       "      <td>320.81</td>\n",
       "    </tr>\n",
       "    <tr>\n",
       "      <td>1</td>\n",
       "      <td>2017-09-01</td>\n",
       "      <td>Western</td>\n",
       "      <td>1,106.89</td>\n",
       "      <td>1,024.33</td>\n",
       "      <td>25.17</td>\n",
       "      <td>3.81</td>\n",
       "      <td>72.00</td>\n",
       "      <td>21.53</td>\n",
       "    </tr>\n",
       "    <tr>\n",
       "      <td>2</td>\n",
       "      <td>2017-09-01</td>\n",
       "      <td>Southern</td>\n",
       "      <td>576.66</td>\n",
       "      <td>578.55</td>\n",
       "      <td>62.73</td>\n",
       "      <td>49.80</td>\n",
       "      <td>111.57</td>\n",
       "      <td>64.78</td>\n",
       "    </tr>\n",
       "    <tr>\n",
       "      <td>3</td>\n",
       "      <td>2017-09-01</td>\n",
       "      <td>Eastern</td>\n",
       "      <td>441.02</td>\n",
       "      <td>429.39</td>\n",
       "      <td>NaN</td>\n",
       "      <td>NaN</td>\n",
       "      <td>85.94</td>\n",
       "      <td>69.36</td>\n",
       "    </tr>\n",
       "    <tr>\n",
       "      <td>4</td>\n",
       "      <td>2017-09-01</td>\n",
       "      <td>NorthEastern</td>\n",
       "      <td>29.11</td>\n",
       "      <td>15.91</td>\n",
       "      <td>NaN</td>\n",
       "      <td>NaN</td>\n",
       "      <td>24.64</td>\n",
       "      <td>21.21</td>\n",
       "    </tr>\n",
       "  </tbody>\n",
       "</table>\n",
       "</div>"
      ],
      "text/plain": [
       "         date        region thermal_generation_actual  \\\n",
       "0  2017-09-01      Northern                    624.23   \n",
       "1  2017-09-01       Western                  1,106.89   \n",
       "2  2017-09-01      Southern                    576.66   \n",
       "3  2017-09-01       Eastern                    441.02   \n",
       "4  2017-09-01  NorthEastern                     29.11   \n",
       "\n",
       "  thermal_generation_estimated  nuclear_generation_actual  \\\n",
       "0                       484.21                      30.36   \n",
       "1                     1,024.33                      25.17   \n",
       "2                       578.55                      62.73   \n",
       "3                       429.39                        NaN   \n",
       "4                        15.91                        NaN   \n",
       "\n",
       "   nuclear_generation_estimated  hydro_generation_actual  \\\n",
       "0                         35.57                   273.27   \n",
       "1                          3.81                    72.00   \n",
       "2                         49.80                   111.57   \n",
       "3                           NaN                    85.94   \n",
       "4                           NaN                    24.64   \n",
       "\n",
       "   hydro_generation_estimated  \n",
       "0                      320.81  \n",
       "1                       21.53  \n",
       "2                       64.78  \n",
       "3                       69.36  \n",
       "4                       21.21  "
      ]
     },
     "execution_count": 121,
     "metadata": {},
     "output_type": "execute_result"
    }
   ],
   "source": [
    "power_df.columns = [col.replace(' (in MU)', '').replace(' ','_').lower() for col in power_df.columns]\n",
    "power_df.head()"
   ]
  },
  {
   "cell_type": "markdown",
   "metadata": {
    "colab_type": "text",
    "id": "UK3mNYdGprSP"
   },
   "source": [
    "## Cleaning state_df column names:\n",
    "* Replace the column names 'State / Union territory (UT)', 'Area (km2)', 'Region' and 'National Share (%)' with 'state','area','region' and 'national_share' respectively"
   ]
  },
  {
   "cell_type": "code",
   "execution_count": 122,
   "metadata": {
    "colab": {},
    "colab_type": "code",
    "id": "MhAVWRhkpu9t"
   },
   "outputs": [
    {
     "data": {
      "text/html": [
       "<div>\n",
       "<style scoped>\n",
       "    .dataframe tbody tr th:only-of-type {\n",
       "        vertical-align: middle;\n",
       "    }\n",
       "\n",
       "    .dataframe tbody tr th {\n",
       "        vertical-align: top;\n",
       "    }\n",
       "\n",
       "    .dataframe thead th {\n",
       "        text-align: right;\n",
       "    }\n",
       "</style>\n",
       "<table border=\"1\" class=\"dataframe\">\n",
       "  <thead>\n",
       "    <tr style=\"text-align: right;\">\n",
       "      <th></th>\n",
       "      <th>state</th>\n",
       "      <th>area</th>\n",
       "      <th>region</th>\n",
       "      <th>national_share</th>\n",
       "    </tr>\n",
       "  </thead>\n",
       "  <tbody>\n",
       "    <tr>\n",
       "      <td>0</td>\n",
       "      <td>Rajasthan</td>\n",
       "      <td>342239</td>\n",
       "      <td>Northern</td>\n",
       "      <td>10.55</td>\n",
       "    </tr>\n",
       "    <tr>\n",
       "      <td>1</td>\n",
       "      <td>Madhya Pradesh</td>\n",
       "      <td>308350</td>\n",
       "      <td>Central</td>\n",
       "      <td>9.37</td>\n",
       "    </tr>\n",
       "    <tr>\n",
       "      <td>2</td>\n",
       "      <td>Maharashtra</td>\n",
       "      <td>307713</td>\n",
       "      <td>Western</td>\n",
       "      <td>9.36</td>\n",
       "    </tr>\n",
       "    <tr>\n",
       "      <td>3</td>\n",
       "      <td>Uttar Pradesh</td>\n",
       "      <td>240928</td>\n",
       "      <td>Northern</td>\n",
       "      <td>7.33</td>\n",
       "    </tr>\n",
       "    <tr>\n",
       "      <td>4</td>\n",
       "      <td>Gujarat</td>\n",
       "      <td>196024</td>\n",
       "      <td>Western</td>\n",
       "      <td>5.96</td>\n",
       "    </tr>\n",
       "  </tbody>\n",
       "</table>\n",
       "</div>"
      ],
      "text/plain": [
       "            state    area    region  national_share\n",
       "0       Rajasthan  342239  Northern           10.55\n",
       "1  Madhya Pradesh  308350   Central            9.37\n",
       "2     Maharashtra  307713   Western            9.36\n",
       "3   Uttar Pradesh  240928  Northern            7.33\n",
       "4         Gujarat  196024   Western            5.96"
      ]
     },
     "execution_count": 122,
     "metadata": {},
     "output_type": "execute_result"
    }
   ],
   "source": [
    "states_df.columns = [col.replace('State / Union territory (UT)','state').replace('Area (km2)','area')\\\n",
    "                     .replace('Region','region').replace('National Share (%)','national_share') for col in states_df.columns]\n",
    "\n",
    "states_df.head()"
   ]
  },
  {
   "cell_type": "markdown",
   "metadata": {
    "colab_type": "text",
    "id": "3zBHvMndpw6P"
   },
   "source": [
    "## The region names in both the dataframes have to be the same, check for the same, if not, make the necessary changes"
   ]
  },
  {
   "cell_type": "code",
   "execution_count": 123,
   "metadata": {
    "colab": {},
    "colab_type": "code",
    "id": "k3KHNOuyp1oP"
   },
   "outputs": [
    {
     "data": {
      "text/plain": [
       "array(['Northern', 'Western', 'Southern', 'Eastern', 'NorthEastern'],\n",
       "      dtype=object)"
      ]
     },
     "execution_count": 123,
     "metadata": {},
     "output_type": "execute_result"
    }
   ],
   "source": [
    "power_df.region.unique()"
   ]
  },
  {
   "cell_type": "code",
   "execution_count": 124,
   "metadata": {},
   "outputs": [
    {
     "data": {
      "text/plain": [
       "array(['Northern', 'Central', 'Western', 'Southern', 'Eastern',\n",
       "       'Northeastern'], dtype=object)"
      ]
     },
     "execution_count": 124,
     "metadata": {},
     "output_type": "execute_result"
    }
   ],
   "source": [
    "states_df.region.unique()\n"
   ]
  },
  {
   "cell_type": "code",
   "execution_count": 125,
   "metadata": {},
   "outputs": [
    {
     "data": {
      "text/plain": [
       "array(['Northern', 'Central', 'Western', 'Southern', 'Eastern',\n",
       "       'NorthEastern'], dtype=object)"
      ]
     },
     "execution_count": 125,
     "metadata": {},
     "output_type": "execute_result"
    }
   ],
   "source": [
    "states_df['region'] = states_df['region'].replace('Northeastern','NorthEastern')\n",
    "states_df.region.unique()"
   ]
  },
  {
   "cell_type": "markdown",
   "metadata": {
    "colab_type": "text",
    "id": "O8WeQOt1p2wW"
   },
   "source": [
    "## Basic Data Study"
   ]
  },
  {
   "cell_type": "code",
   "execution_count": 126,
   "metadata": {
    "colab": {},
    "colab_type": "code",
    "id": "CBIZN4Lzp9MU",
    "scrolled": false
   },
   "outputs": [
    {
     "name": "stdout",
     "output_type": "stream",
     "text": [
      "<class 'pandas.core.frame.DataFrame'>\n",
      "RangeIndex: 4945 entries, 0 to 4944\n",
      "Data columns (total 8 columns):\n",
      "date                            4945 non-null object\n",
      "region                          4945 non-null object\n",
      "thermal_generation_actual       4945 non-null object\n",
      "thermal_generation_estimated    4945 non-null object\n",
      "nuclear_generation_actual       2967 non-null float64\n",
      "nuclear_generation_estimated    2967 non-null float64\n",
      "hydro_generation_actual         4945 non-null float64\n",
      "hydro_generation_estimated      4945 non-null float64\n",
      "dtypes: float64(4), object(4)\n",
      "memory usage: 309.2+ KB\n"
     ]
    },
    {
     "data": {
      "text/html": [
       "<div>\n",
       "<style scoped>\n",
       "    .dataframe tbody tr th:only-of-type {\n",
       "        vertical-align: middle;\n",
       "    }\n",
       "\n",
       "    .dataframe tbody tr th {\n",
       "        vertical-align: top;\n",
       "    }\n",
       "\n",
       "    .dataframe thead th {\n",
       "        text-align: right;\n",
       "    }\n",
       "</style>\n",
       "<table border=\"1\" class=\"dataframe\">\n",
       "  <thead>\n",
       "    <tr style=\"text-align: right;\">\n",
       "      <th></th>\n",
       "      <th>nuclear_generation_actual</th>\n",
       "      <th>nuclear_generation_estimated</th>\n",
       "      <th>hydro_generation_actual</th>\n",
       "      <th>hydro_generation_estimated</th>\n",
       "    </tr>\n",
       "  </thead>\n",
       "  <tbody>\n",
       "    <tr>\n",
       "      <td>count</td>\n",
       "      <td>2967.000000</td>\n",
       "      <td>2967.000000</td>\n",
       "      <td>4945.000000</td>\n",
       "      <td>4945.000000</td>\n",
       "    </tr>\n",
       "    <tr>\n",
       "      <td>mean</td>\n",
       "      <td>37.242208</td>\n",
       "      <td>36.987877</td>\n",
       "      <td>73.305921</td>\n",
       "      <td>76.842965</td>\n",
       "    </tr>\n",
       "    <tr>\n",
       "      <td>std</td>\n",
       "      <td>15.883968</td>\n",
       "      <td>11.491292</td>\n",
       "      <td>74.482145</td>\n",
       "      <td>82.043952</td>\n",
       "    </tr>\n",
       "    <tr>\n",
       "      <td>min</td>\n",
       "      <td>0.000000</td>\n",
       "      <td>0.000000</td>\n",
       "      <td>0.000000</td>\n",
       "      <td>0.000000</td>\n",
       "    </tr>\n",
       "    <tr>\n",
       "      <td>25%</td>\n",
       "      <td>26.140000</td>\n",
       "      <td>30.190000</td>\n",
       "      <td>26.910000</td>\n",
       "      <td>23.310000</td>\n",
       "    </tr>\n",
       "    <tr>\n",
       "      <td>50%</td>\n",
       "      <td>30.720000</td>\n",
       "      <td>34.840000</td>\n",
       "      <td>52.960000</td>\n",
       "      <td>50.270000</td>\n",
       "    </tr>\n",
       "    <tr>\n",
       "      <td>75%</td>\n",
       "      <td>46.830000</td>\n",
       "      <td>43.075000</td>\n",
       "      <td>85.940000</td>\n",
       "      <td>95.800000</td>\n",
       "    </tr>\n",
       "    <tr>\n",
       "      <td>max</td>\n",
       "      <td>68.740000</td>\n",
       "      <td>76.640000</td>\n",
       "      <td>348.720000</td>\n",
       "      <td>397.380000</td>\n",
       "    </tr>\n",
       "  </tbody>\n",
       "</table>\n",
       "</div>"
      ],
      "text/plain": [
       "       nuclear_generation_actual  nuclear_generation_estimated  \\\n",
       "count                2967.000000                   2967.000000   \n",
       "mean                   37.242208                     36.987877   \n",
       "std                    15.883968                     11.491292   \n",
       "min                     0.000000                      0.000000   \n",
       "25%                    26.140000                     30.190000   \n",
       "50%                    30.720000                     34.840000   \n",
       "75%                    46.830000                     43.075000   \n",
       "max                    68.740000                     76.640000   \n",
       "\n",
       "       hydro_generation_actual  hydro_generation_estimated  \n",
       "count              4945.000000                 4945.000000  \n",
       "mean                 73.305921                   76.842965  \n",
       "std                  74.482145                   82.043952  \n",
       "min                   0.000000                    0.000000  \n",
       "25%                  26.910000                   23.310000  \n",
       "50%                  52.960000                   50.270000  \n",
       "75%                  85.940000                   95.800000  \n",
       "max                 348.720000                  397.380000  "
      ]
     },
     "execution_count": 126,
     "metadata": {},
     "output_type": "execute_result"
    }
   ],
   "source": [
    "power_df.info()\n",
    "power_df.shape\n",
    "power_df.describe()"
   ]
  },
  {
   "cell_type": "code",
   "execution_count": 127,
   "metadata": {},
   "outputs": [
    {
     "name": "stdout",
     "output_type": "stream",
     "text": [
      "<class 'pandas.core.frame.DataFrame'>\n",
      "RangeIndex: 34 entries, 0 to 33\n",
      "Data columns (total 4 columns):\n",
      "state             34 non-null object\n",
      "area              34 non-null int64\n",
      "region            34 non-null object\n",
      "national_share    34 non-null float64\n",
      "dtypes: float64(1), int64(1), object(2)\n",
      "memory usage: 1.2+ KB\n"
     ]
    },
    {
     "data": {
      "text/plain": [
       "(34, 4)"
      ]
     },
     "execution_count": 127,
     "metadata": {},
     "output_type": "execute_result"
    }
   ],
   "source": [
    "states_df.info()\n",
    "states_df.shape"
   ]
  },
  {
   "cell_type": "markdown",
   "metadata": {
    "colab_type": "text",
    "id": "zY4lJY_Rp-Uj"
   },
   "source": [
    "## Find if there are any null values in both the dataframes, if there are, what is the possile strategy to deal with them?"
   ]
  },
  {
   "cell_type": "code",
   "execution_count": 128,
   "metadata": {
    "colab": {},
    "colab_type": "code",
    "id": "jBU-3zSIqEyf"
   },
   "outputs": [
    {
     "data": {
      "text/plain": [
       "date                               0\n",
       "region                             0\n",
       "thermal_generation_actual          0\n",
       "thermal_generation_estimated       0\n",
       "nuclear_generation_actual       1978\n",
       "nuclear_generation_estimated    1978\n",
       "hydro_generation_actual            0\n",
       "hydro_generation_estimated         0\n",
       "dtype: int64"
      ]
     },
     "execution_count": 128,
     "metadata": {},
     "output_type": "execute_result"
    }
   ],
   "source": [
    "power_df.isnull().sum()"
   ]
  },
  {
   "cell_type": "code",
   "execution_count": 129,
   "metadata": {},
   "outputs": [
    {
     "data": {
      "text/plain": [
       "state             0\n",
       "area              0\n",
       "region            0\n",
       "national_share    0\n",
       "dtype: int64"
      ]
     },
     "execution_count": 129,
     "metadata": {},
     "output_type": "execute_result"
    }
   ],
   "source": [
    "states_df.isnull().sum()"
   ]
  },
  {
   "cell_type": "markdown",
   "metadata": {
    "colab_type": "text",
    "id": "WJf1HQjiqFUv"
   },
   "source": [
    "## Subset the dataframe with only the null values and check for pattern"
   ]
  },
  {
   "cell_type": "code",
   "execution_count": 130,
   "metadata": {
    "colab": {},
    "colab_type": "code",
    "id": "CFEBkmJCqNr6"
   },
   "outputs": [
    {
     "data": {
      "text/plain": [
       "array(['Eastern', 'NorthEastern'], dtype=object)"
      ]
     },
     "execution_count": 130,
     "metadata": {},
     "output_type": "execute_result"
    }
   ],
   "source": [
    "power_df.loc[power_df.nuclear_generation_actual.isnull(),'region'].unique()"
   ]
  },
  {
   "cell_type": "code",
   "execution_count": 131,
   "metadata": {},
   "outputs": [
    {
     "data": {
      "text/plain": [
       "array(['Eastern', 'NorthEastern'], dtype=object)"
      ]
     },
     "execution_count": 131,
     "metadata": {},
     "output_type": "execute_result"
    }
   ],
   "source": [
    "power_df.loc[power_df.nuclear_generation_estimated.isnull(),'region'].unique()"
   ]
  },
  {
   "cell_type": "code",
   "execution_count": 132,
   "metadata": {},
   "outputs": [
    {
     "data": {
      "text/html": [
       "<div>\n",
       "<style scoped>\n",
       "    .dataframe tbody tr th:only-of-type {\n",
       "        vertical-align: middle;\n",
       "    }\n",
       "\n",
       "    .dataframe tbody tr th {\n",
       "        vertical-align: top;\n",
       "    }\n",
       "\n",
       "    .dataframe thead th {\n",
       "        text-align: right;\n",
       "    }\n",
       "</style>\n",
       "<table border=\"1\" class=\"dataframe\">\n",
       "  <thead>\n",
       "    <tr style=\"text-align: right;\">\n",
       "      <th></th>\n",
       "      <th>nuclear_generation_actual</th>\n",
       "      <th>nuclear_generation_estimated</th>\n",
       "      <th>hydro_generation_actual</th>\n",
       "      <th>hydro_generation_estimated</th>\n",
       "    </tr>\n",
       "    <tr>\n",
       "      <th>region</th>\n",
       "      <th></th>\n",
       "      <th></th>\n",
       "      <th></th>\n",
       "      <th></th>\n",
       "    </tr>\n",
       "  </thead>\n",
       "  <tbody>\n",
       "    <tr>\n",
       "      <td>Eastern</td>\n",
       "      <td>0.00</td>\n",
       "      <td>0.00</td>\n",
       "      <td>48686.62</td>\n",
       "      <td>52461.95</td>\n",
       "    </tr>\n",
       "    <tr>\n",
       "      <td>NorthEastern</td>\n",
       "      <td>0.00</td>\n",
       "      <td>0.00</td>\n",
       "      <td>17612.32</td>\n",
       "      <td>14058.66</td>\n",
       "    </tr>\n",
       "    <tr>\n",
       "      <td>Northern</td>\n",
       "      <td>26964.08</td>\n",
       "      <td>31378.94</td>\n",
       "      <td>188854.16</td>\n",
       "      <td>201204.03</td>\n",
       "    </tr>\n",
       "    <tr>\n",
       "      <td>Southern</td>\n",
       "      <td>55855.21</td>\n",
       "      <td>46483.24</td>\n",
       "      <td>71109.34</td>\n",
       "      <td>77083.80</td>\n",
       "    </tr>\n",
       "    <tr>\n",
       "      <td>Western</td>\n",
       "      <td>27678.34</td>\n",
       "      <td>31880.85</td>\n",
       "      <td>36235.34</td>\n",
       "      <td>35180.02</td>\n",
       "    </tr>\n",
       "  </tbody>\n",
       "</table>\n",
       "</div>"
      ],
      "text/plain": [
       "              nuclear_generation_actual  nuclear_generation_estimated  \\\n",
       "region                                                                  \n",
       "Eastern                            0.00                          0.00   \n",
       "NorthEastern                       0.00                          0.00   \n",
       "Northern                       26964.08                      31378.94   \n",
       "Southern                       55855.21                      46483.24   \n",
       "Western                        27678.34                      31880.85   \n",
       "\n",
       "              hydro_generation_actual  hydro_generation_estimated  \n",
       "region                                                             \n",
       "Eastern                      48686.62                    52461.95  \n",
       "NorthEastern                 17612.32                    14058.66  \n",
       "Northern                    188854.16                   201204.03  \n",
       "Southern                     71109.34                    77083.80  \n",
       "Western                      36235.34                    35180.02  "
      ]
     },
     "execution_count": 132,
     "metadata": {},
     "output_type": "execute_result"
    }
   ],
   "source": [
    "power_df.groupby('region').sum()"
   ]
  },
  {
   "cell_type": "markdown",
   "metadata": {
    "colab_type": "text",
    "id": "ww5cCZE8qOr1"
   },
   "source": [
    "### Nuclear Generation columns are empty for Eastern and NorthEastern region. Could be due to no nuclear plants in that region.So, Replacing the NaN values with 0"
   ]
  },
  {
   "cell_type": "code",
   "execution_count": 133,
   "metadata": {
    "colab": {},
    "colab_type": "code",
    "id": "dPzEGB46qTaW"
   },
   "outputs": [
    {
     "data": {
      "text/plain": [
       "date                            0\n",
       "region                          0\n",
       "thermal_generation_actual       0\n",
       "thermal_generation_estimated    0\n",
       "nuclear_generation_actual       0\n",
       "nuclear_generation_estimated    0\n",
       "hydro_generation_actual         0\n",
       "hydro_generation_estimated      0\n",
       "dtype: int64"
      ]
     },
     "execution_count": 133,
     "metadata": {},
     "output_type": "execute_result"
    }
   ],
   "source": [
    "power_df = power_df.fillna(0)\n",
    "power_df.isnull().sum()"
   ]
  },
  {
   "cell_type": "markdown",
   "metadata": {
    "colab_type": "text",
    "id": "DYV6cxi7qUZ1"
   },
   "source": [
    "## Covert the thermal generation values to float in the power_df"
   ]
  },
  {
   "cell_type": "code",
   "execution_count": 134,
   "metadata": {},
   "outputs": [
    {
     "data": {
      "text/plain": [
       "988"
      ]
     },
     "execution_count": 134,
     "metadata": {},
     "output_type": "execute_result"
    }
   ],
   "source": [
    "power_df.thermal_generation_actual.str.contains(',').sum()"
   ]
  },
  {
   "cell_type": "code",
   "execution_count": 135,
   "metadata": {
    "colab": {},
    "colab_type": "code",
    "id": "9Vk5MG32qbm6"
   },
   "outputs": [
    {
     "name": "stdout",
     "output_type": "stream",
     "text": [
      "<class 'pandas.core.frame.DataFrame'>\n",
      "RangeIndex: 4945 entries, 0 to 4944\n",
      "Data columns (total 8 columns):\n",
      "date                            4945 non-null object\n",
      "region                          4945 non-null object\n",
      "thermal_generation_actual       4945 non-null float64\n",
      "thermal_generation_estimated    4945 non-null float64\n",
      "nuclear_generation_actual       4945 non-null float64\n",
      "nuclear_generation_estimated    4945 non-null float64\n",
      "hydro_generation_actual         4945 non-null float64\n",
      "hydro_generation_estimated      4945 non-null float64\n",
      "dtypes: float64(6), object(2)\n",
      "memory usage: 309.2+ KB\n"
     ]
    }
   ],
   "source": [
    "power_df['thermal_generation_actual']=power_df['thermal_generation_actual'].replace({',': ''}, regex=True).astype(float)\n",
    "power_df['thermal_generation_estimated']=power_df['thermal_generation_estimated'].replace({',': ''}, regex=True).astype(float)\n",
    "power_df.info()"
   ]
  },
  {
   "cell_type": "markdown",
   "metadata": {
    "colab_type": "text",
    "id": "po8qVHobqcTO"
   },
   "source": [
    "## Coverting the date values to DateTime format"
   ]
  },
  {
   "cell_type": "code",
   "execution_count": 147,
   "metadata": {
    "colab": {},
    "colab_type": "code",
    "id": "ALWIMSmIqg6f"
   },
   "outputs": [
    {
     "name": "stdout",
     "output_type": "stream",
     "text": [
      "<class 'pandas.core.frame.DataFrame'>\n",
      "RangeIndex: 4945 entries, 0 to 4944\n",
      "Data columns (total 8 columns):\n",
      "date                            4945 non-null datetime64[ns]\n",
      "region                          4945 non-null object\n",
      "thermal_generation_actual       4945 non-null float64\n",
      "thermal_generation_estimated    4945 non-null float64\n",
      "nuclear_generation_actual       4945 non-null float64\n",
      "nuclear_generation_estimated    4945 non-null float64\n",
      "hydro_generation_actual         4945 non-null float64\n",
      "hydro_generation_estimated      4945 non-null float64\n",
      "dtypes: datetime64[ns](1), float64(6), object(1)\n",
      "memory usage: 309.2+ KB\n"
     ]
    }
   ],
   "source": [
    "#power_df.date = pd.to_datetime(power_df.date)\n",
    "power_df['date'] = power_df['date'].astype('datetime64[ns]')\n",
    "power_df.info()"
   ]
  },
  {
   "cell_type": "markdown",
   "metadata": {
    "colab_type": "text",
    "id": "ZSuEUGEkqiGg"
   },
   "source": [
    "## Find out the region which has the highest number of states and find out which states they are.\n",
    "\n"
   ]
  },
  {
   "cell_type": "code",
   "execution_count": 168,
   "metadata": {
    "colab": {},
    "colab_type": "code",
    "id": "sBxti6YCqn4j"
   },
   "outputs": [
    {
     "data": {
      "text/plain": [
       "array(['Rajasthan', 'Uttar Pradesh', 'Ladakh', 'Himachal Pradesh',\n",
       "       'Uttarakhand', 'Punjab', 'Haryana', 'Jammu and Kashmir', 'Delhi',\n",
       "       'Chandigarh'], dtype=object)"
      ]
     },
     "execution_count": 168,
     "metadata": {},
     "output_type": "execute_result"
    }
   ],
   "source": [
    "states_df.head()\n",
    "highest_region = states_df.groupby('region')['state'].count().idxmax()\n",
    "\n",
    "states_df.groupby('region')['state'].unique()[highest_region]"
   ]
  },
  {
   "cell_type": "code",
   "execution_count": 173,
   "metadata": {},
   "outputs": [
    {
     "data": {
      "text/plain": [
       "<AxesSubplot:ylabel='region'>"
      ]
     },
     "execution_count": 173,
     "metadata": {},
     "output_type": "execute_result"
    },
    {
     "data": {
      "image/png": "[encoded data removed]",
      "text/plain": [
       "<Figure size 432x288 with 1 Axes>"
      ]
     },
     "metadata": {
      "needs_background": "light"
     },
     "output_type": "display_data"
    }
   ],
   "source": [
    "states_agg_df = states_df.groupby('region').agg(states=('state','unique'),\n",
    "                               total_states=('state','count'),\n",
    "                               total_area=('area','sum'),\n",
    "                               average_area=('area','mean'))\n",
    "\n",
    "states_agg_df.total_states.sort_values().plot.barh()\n"
   ]
  },
  {
   "cell_type": "markdown",
   "metadata": {
    "colab_type": "text",
    "id": "Vx3j5SmmqpIf"
   },
   "source": [
    "##  Create a subset of the dataframe such that it shows mean power generated on each of the days for all the sectors."
   ]
  },
  {
   "cell_type": "code",
   "execution_count": 181,
   "metadata": {
    "colab": {},
    "colab_type": "code",
    "id": "oedxXWs1qtmi"
   },
   "outputs": [
    {
     "data": {
      "text/html": [
       "<div>\n",
       "<style scoped>\n",
       "    .dataframe tbody tr th:only-of-type {\n",
       "        vertical-align: middle;\n",
       "    }\n",
       "\n",
       "    .dataframe tbody tr th {\n",
       "        vertical-align: top;\n",
       "    }\n",
       "\n",
       "    .dataframe thead th {\n",
       "        text-align: right;\n",
       "    }\n",
       "</style>\n",
       "<table border=\"1\" class=\"dataframe\">\n",
       "  <thead>\n",
       "    <tr style=\"text-align: right;\">\n",
       "      <th></th>\n",
       "      <th>thermal_generation_actual</th>\n",
       "      <th>thermal_generation_estimated</th>\n",
       "      <th>nuclear_generation_actual</th>\n",
       "      <th>nuclear_generation_estimated</th>\n",
       "      <th>hydro_generation_actual</th>\n",
       "      <th>hydro_generation_estimated</th>\n",
       "      <th>all_actual</th>\n",
       "    </tr>\n",
       "    <tr>\n",
       "      <th>date</th>\n",
       "      <th></th>\n",
       "      <th></th>\n",
       "      <th></th>\n",
       "      <th></th>\n",
       "      <th></th>\n",
       "      <th></th>\n",
       "      <th></th>\n",
       "    </tr>\n",
       "  </thead>\n",
       "  <tbody>\n",
       "    <tr>\n",
       "      <td>2017-09-01</td>\n",
       "      <td>555.582</td>\n",
       "      <td>506.478</td>\n",
       "      <td>23.652</td>\n",
       "      <td>17.836</td>\n",
       "      <td>113.484</td>\n",
       "      <td>99.538</td>\n",
       "      <td>692.718</td>\n",
       "    </tr>\n",
       "    <tr>\n",
       "      <td>2017-09-02</td>\n",
       "      <td>555.582</td>\n",
       "      <td>512.674</td>\n",
       "      <td>23.652</td>\n",
       "      <td>18.456</td>\n",
       "      <td>113.484</td>\n",
       "      <td>99.128</td>\n",
       "      <td>692.718</td>\n",
       "    </tr>\n",
       "    <tr>\n",
       "      <td>2017-09-03</td>\n",
       "      <td>555.554</td>\n",
       "      <td>506.646</td>\n",
       "      <td>23.652</td>\n",
       "      <td>18.514</td>\n",
       "      <td>113.484</td>\n",
       "      <td>94.610</td>\n",
       "      <td>692.690</td>\n",
       "    </tr>\n",
       "    <tr>\n",
       "      <td>2017-09-04</td>\n",
       "      <td>555.554</td>\n",
       "      <td>542.856</td>\n",
       "      <td>23.652</td>\n",
       "      <td>18.524</td>\n",
       "      <td>113.484</td>\n",
       "      <td>100.072</td>\n",
       "      <td>692.690</td>\n",
       "    </tr>\n",
       "    <tr>\n",
       "      <td>2017-09-05</td>\n",
       "      <td>558.170</td>\n",
       "      <td>555.930</td>\n",
       "      <td>23.652</td>\n",
       "      <td>18.542</td>\n",
       "      <td>113.484</td>\n",
       "      <td>94.032</td>\n",
       "      <td>695.306</td>\n",
       "    </tr>\n",
       "  </tbody>\n",
       "</table>\n",
       "</div>"
      ],
      "text/plain": [
       "            thermal_generation_actual  thermal_generation_estimated  \\\n",
       "date                                                                  \n",
       "2017-09-01                    555.582                       506.478   \n",
       "2017-09-02                    555.582                       512.674   \n",
       "2017-09-03                    555.554                       506.646   \n",
       "2017-09-04                    555.554                       542.856   \n",
       "2017-09-05                    558.170                       555.930   \n",
       "\n",
       "            nuclear_generation_actual  nuclear_generation_estimated  \\\n",
       "date                                                                  \n",
       "2017-09-01                     23.652                        17.836   \n",
       "2017-09-02                     23.652                        18.456   \n",
       "2017-09-03                     23.652                        18.514   \n",
       "2017-09-04                     23.652                        18.524   \n",
       "2017-09-05                     23.652                        18.542   \n",
       "\n",
       "            hydro_generation_actual  hydro_generation_estimated  all_actual  \n",
       "date                                                                         \n",
       "2017-09-01                  113.484                      99.538     692.718  \n",
       "2017-09-02                  113.484                      99.128     692.718  \n",
       "2017-09-03                  113.484                      94.610     692.690  \n",
       "2017-09-04                  113.484                     100.072     692.690  \n",
       "2017-09-05                  113.484                      94.032     695.306  "
      ]
     },
     "execution_count": 181,
     "metadata": {},
     "output_type": "execute_result"
    }
   ],
   "source": [
    "power_df['all_actual'] = power_df.loc[:,['thermal_generation_actual','nuclear_generation_actual','hydro_generation_actual']].sum(axis=1)\n",
    "\n",
    "mean_hd = power_df.groupby('date').mean()\n",
    "mean_hd.head(5)"
   ]
  },
  {
   "cell_type": "markdown",
   "metadata": {
    "colab_type": "text",
    "id": "wu-Nh9-IqzDV"
   },
   "source": [
    "## Plotting a graph of mean of all the types of power gernerations in all of India, with total power generation"
   ]
  },
  {
   "cell_type": "code",
   "execution_count": 183,
   "metadata": {
    "colab": {},
    "colab_type": "code",
    "id": "HBd28vgyqz3V"
   },
   "outputs": [
    {
     "data": {
      "text/plain": [
       "array([ True, False,  True, False,  True, False,  True])"
      ]
     },
     "execution_count": 183,
     "metadata": {},
     "output_type": "execute_result"
    }
   ],
   "source": [
    "actual_col = mean_hd.columns.str.endswith('actual')\n",
    "actual_col"
   ]
  },
  {
   "cell_type": "code",
   "execution_count": 184,
   "metadata": {
    "scrolled": true
   },
   "outputs": [
    {
     "data": {
      "text/html": [
       "<div>\n",
       "<style scoped>\n",
       "    .dataframe tbody tr th:only-of-type {\n",
       "        vertical-align: middle;\n",
       "    }\n",
       "\n",
       "    .dataframe tbody tr th {\n",
       "        vertical-align: top;\n",
       "    }\n",
       "\n",
       "    .dataframe thead th {\n",
       "        text-align: right;\n",
       "    }\n",
       "</style>\n",
       "<table border=\"1\" class=\"dataframe\">\n",
       "  <thead>\n",
       "    <tr style=\"text-align: right;\">\n",
       "      <th></th>\n",
       "      <th>thermal_generation_actual</th>\n",
       "      <th>nuclear_generation_actual</th>\n",
       "      <th>hydro_generation_actual</th>\n",
       "      <th>all_actual</th>\n",
       "    </tr>\n",
       "    <tr>\n",
       "      <th>date</th>\n",
       "      <th></th>\n",
       "      <th></th>\n",
       "      <th></th>\n",
       "      <th></th>\n",
       "    </tr>\n",
       "  </thead>\n",
       "  <tbody>\n",
       "    <tr>\n",
       "      <td>2017-09-01</td>\n",
       "      <td>555.582</td>\n",
       "      <td>23.652</td>\n",
       "      <td>113.484</td>\n",
       "      <td>692.718</td>\n",
       "    </tr>\n",
       "    <tr>\n",
       "      <td>2017-09-02</td>\n",
       "      <td>555.582</td>\n",
       "      <td>23.652</td>\n",
       "      <td>113.484</td>\n",
       "      <td>692.718</td>\n",
       "    </tr>\n",
       "    <tr>\n",
       "      <td>2017-09-03</td>\n",
       "      <td>555.554</td>\n",
       "      <td>23.652</td>\n",
       "      <td>113.484</td>\n",
       "      <td>692.690</td>\n",
       "    </tr>\n",
       "    <tr>\n",
       "      <td>2017-09-04</td>\n",
       "      <td>555.554</td>\n",
       "      <td>23.652</td>\n",
       "      <td>113.484</td>\n",
       "      <td>692.690</td>\n",
       "    </tr>\n",
       "    <tr>\n",
       "      <td>2017-09-05</td>\n",
       "      <td>558.170</td>\n",
       "      <td>23.652</td>\n",
       "      <td>113.484</td>\n",
       "      <td>695.306</td>\n",
       "    </tr>\n",
       "    <tr>\n",
       "      <td>...</td>\n",
       "      <td>...</td>\n",
       "      <td>...</td>\n",
       "      <td>...</td>\n",
       "      <td>...</td>\n",
       "    </tr>\n",
       "    <tr>\n",
       "      <td>2020-07-28</td>\n",
       "      <td>592.326</td>\n",
       "      <td>26.216</td>\n",
       "      <td>105.154</td>\n",
       "      <td>723.696</td>\n",
       "    </tr>\n",
       "    <tr>\n",
       "      <td>2020-07-29</td>\n",
       "      <td>592.326</td>\n",
       "      <td>26.216</td>\n",
       "      <td>105.154</td>\n",
       "      <td>723.696</td>\n",
       "    </tr>\n",
       "    <tr>\n",
       "      <td>2020-07-30</td>\n",
       "      <td>594.872</td>\n",
       "      <td>26.216</td>\n",
       "      <td>105.154</td>\n",
       "      <td>726.242</td>\n",
       "    </tr>\n",
       "    <tr>\n",
       "      <td>2020-07-31</td>\n",
       "      <td>596.800</td>\n",
       "      <td>26.216</td>\n",
       "      <td>105.154</td>\n",
       "      <td>728.170</td>\n",
       "    </tr>\n",
       "    <tr>\n",
       "      <td>2020-08-01</td>\n",
       "      <td>559.482</td>\n",
       "      <td>26.216</td>\n",
       "      <td>122.794</td>\n",
       "      <td>708.492</td>\n",
       "    </tr>\n",
       "  </tbody>\n",
       "</table>\n",
       "<p>989 rows × 4 columns</p>\n",
       "</div>"
      ],
      "text/plain": [
       "            thermal_generation_actual  nuclear_generation_actual  \\\n",
       "date                                                               \n",
       "2017-09-01                    555.582                     23.652   \n",
       "2017-09-02                    555.582                     23.652   \n",
       "2017-09-03                    555.554                     23.652   \n",
       "2017-09-04                    555.554                     23.652   \n",
       "2017-09-05                    558.170                     23.652   \n",
       "...                               ...                        ...   \n",
       "2020-07-28                    592.326                     26.216   \n",
       "2020-07-29                    592.326                     26.216   \n",
       "2020-07-30                    594.872                     26.216   \n",
       "2020-07-31                    596.800                     26.216   \n",
       "2020-08-01                    559.482                     26.216   \n",
       "\n",
       "            hydro_generation_actual  all_actual  \n",
       "date                                             \n",
       "2017-09-01                  113.484     692.718  \n",
       "2017-09-02                  113.484     692.718  \n",
       "2017-09-03                  113.484     692.690  \n",
       "2017-09-04                  113.484     692.690  \n",
       "2017-09-05                  113.484     695.306  \n",
       "...                             ...         ...  \n",
       "2020-07-28                  105.154     723.696  \n",
       "2020-07-29                  105.154     723.696  \n",
       "2020-07-30                  105.154     726.242  \n",
       "2020-07-31                  105.154     728.170  \n",
       "2020-08-01                  122.794     708.492  \n",
       "\n",
       "[989 rows x 4 columns]"
      ]
     },
     "execution_count": 184,
     "metadata": {},
     "output_type": "execute_result"
    }
   ],
   "source": [
    "mean_hd.loc[:,actual_col]"
   ]
  },
  {
   "cell_type": "code",
   "execution_count": 188,
   "metadata": {},
   "outputs": [
    {
     "data": {
      "text/plain": [
       "<AxesSubplot:title={'center':'Avg power generated across regions'}, xlabel='date'>"
      ]
     },
     "execution_count": 188,
     "metadata": {},
     "output_type": "execute_result"
    },
    {
     "data": {
      "image/png": "[encoded data removed]",
      "text/plain": [
       "<Figure size 720x720 with 1 Axes>"
      ]
     },
     "metadata": {
      "needs_background": "light"
     },
     "output_type": "display_data"
    }
   ],
   "source": [
    "mean_hd.loc[:,actual_col].plot.line(title='Avg power generated across regions',figsize=(10,10))"
   ]
  },
  {
   "cell_type": "code",
   "execution_count": null,
   "metadata": {
    "colab": {},
    "colab_type": "code",
    "id": "tmEQ2aV3q5he"
   },
   "outputs": [],
   "source": []
  }
 ],
 "metadata": {
  "colab": {
   "name": "daily_power_generation.ipynb",
   "provenance": []
  },
  "kernelspec": {
   "display_name": "Python 3",
   "language": "python",
   "name": "python3"
  },
  "language_info": {
   "codemirror_mode": {
    "name": "ipython",
    "version": 3
   },
   "file_extension": ".py",
   "mimetype": "text/x-python",
   "name": "python",
   "nbconvert_exporter": "python",
   "pygments_lexer": "ipython3",
   "version": "3.7.4"
  }
 },
 "nbformat": 4,
 "nbformat_minor": 1
}
